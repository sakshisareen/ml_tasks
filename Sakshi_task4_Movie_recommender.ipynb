{
 "cells": [
  {
   "cell_type": "code",
   "execution_count": 1,
   "metadata": {},
   "outputs": [],
   "source": [
    "import pandas as pd\n",
    "from surprise import Dataset, Reader, SVD, KNNBasic\n",
    "from surprise.model_selection import train_test_split\n",
    "from sklearn.feature_extraction.text import TfidfVectorizer\n",
    "from sklearn.decomposition import TruncatedSVD\n",
    "from sklearn.metrics.pairwise import linear_kernel\n",
    "import requests\n",
    "from io import StringIO\n",
    "\n",
    "\n",
    "import pandas as pd\n",
    "import numpy as np\n",
    "from sklearn.feature_extraction.text import TfidfVectorizer\n",
    "from sklearn.metrics.pairwise import linear_kernel\n",
    "from sklearn.metrics.pairwise import cosine_similarity\n",
    "from sklearn.decomposition import TruncatedSVD\n",
    "from sklearn.preprocessing import StandardScaler\n",
    "from sklearn.metrics import mean_squared_error\n",
    "from sklearn.model_selection import train_test_split\n",
    "from sklearn.metrics import pairwise_distances\n"
   ]
  },
  {
   "cell_type": "code",
   "execution_count": 2,
   "metadata": {},
   "outputs": [],
   "source": [
    "# Load the data\n",
    "movies = pd.read_csv('/Users/sakshi/Desktop/Applied_AI/ML2/ml-20m/movies.csv')\n",
    "ratings = pd.read_csv('/Users/sakshi/Desktop/Applied_AI/ML2/ml-20m/ratings.csv')\n",
    "tags = pd.read_csv('/Users/sakshi/Desktop/Applied_AI/ML2/ml-20m/tags.csv')\n"
   ]
  },
  {
   "cell_type": "code",
   "execution_count": 3,
   "metadata": {},
   "outputs": [],
   "source": [
    "# Combine genres into a single string\n",
    "movies['genres'] = movies['genres'].fillna('')\n",
    "movies['content'] = movies['title'] + ' ' + movies['genres']\n"
   ]
  },
  {
   "cell_type": "code",
   "execution_count": 4,
   "metadata": {},
   "outputs": [],
   "source": [
    "\n",
    "# TF-IDF Vectorization\n",
    "tfidf_vectorizer = TfidfVectorizer(stop_words='english')\n",
    "tfidf_matrix = tfidf_vectorizer.fit_transform(movies['content'])"
   ]
  },
  {
   "cell_type": "code",
   "execution_count": 5,
   "metadata": {},
   "outputs": [],
   "source": [
    "# Dimensionality reduction using Truncated SVD\n",
    "svd = TruncatedSVD(n_components=50, random_state=42)\n",
    "latent_matrix_1 = svd.fit_transform(tfidf_matrix)\n"
   ]
  },
  {
   "cell_type": "code",
   "execution_count": 6,
   "metadata": {},
   "outputs": [],
   "source": [
    "# Standardize the latent matrix\n",
    "scaler = StandardScaler()\n",
    "latent_matrix_1_standardized = scaler.fit_transform(latent_matrix_1)"
   ]
  },
  {
   "cell_type": "code",
   "execution_count": null,
   "metadata": {},
   "outputs": [
    {
     "name": "stderr",
     "output_type": "stream",
     "text": [
      "/var/folders/r6/9zvg424x00l_fnkr5bl4pmjm0000gn/T/ipykernel_7615/3998833273.py:2: PerformanceWarning: The following operation may generate 3703856792 cells in the resulting pandas object.\n",
      "  user_movie_matrix = ratings.pivot(index='userId', columns='movieId', values='rating').fillna(0)\n"
     ]
    },
    {
     "ename": "",
     "evalue": "",
     "output_type": "error",
     "traceback": [
      "\u001b[1;31mThe Kernel crashed while executing code in the the current cell or a previous cell. Please review the code in the cell(s) to identify a possible cause of the failure. Click <a href='https://aka.ms/vscodeJupyterKernelCrash'>here</a> for more info. View Jupyter <a href='command:jupyter.viewOutput'>log</a> for further details."
     ]
    }
   ],
   "source": [
    "import pandas as pd\n",
    "from scipy.sparse import csr_matrix\n",
    "\n",
    "import pandas as pd\n",
    "from scipy.sparse import csr_matrix\n",
    "\n",
    "# Assuming 'ratings' is a pandas DataFrame\n",
    "# Create a sparse user-movie matrix\n",
    "user_movie_matrix = csr_matrix((ratings['rating'], (ratings['userId'], ratings['movieId'])))\n",
    "\n",
    "# Note: This assumes that 'userId' and 'movieId' are integer indices. Adjust accordingly.\n",
    "\n",
    "# Now, 'user_movie_matrix' is a sparse matrix representing the user-movie ratings.\n",
    "# You can perform various operations on this sparse matrix without fully materializing it.\n",
    "\n",
    "# For example, to get the rating for a specific user and movie:\n",
    "user_id = 1\n",
    "movie_id = 123\n",
    "rating = user_movie_matrix[user_id, movie_id]\n",
    "\n",
    "# To get all ratings for a specific user:\n",
    "user_ratings = user_movie_matrix[user_id, :]\n",
    "\n",
    "# To get all ratings for a specific movie:\n",
    "movie_ratings = user_movie_matrix[:, movie_id]"
   ]
  },
  {
   "cell_type": "code",
   "execution_count": 46,
   "metadata": {},
   "outputs": [
    {
     "name": "stderr",
     "output_type": "stream",
     "text": [
      "/var/folders/r6/9zvg424x00l_fnkr5bl4pmjm0000gn/T/ipykernel_4316/1314788037.py:20: PerformanceWarning: The following operation may generate 3703856792 cells in the resulting pandas object.\n",
      "  user_movie_matrix = ratings.pivot(index='userId', columns='movieId', values='rating').fillna(0)\n",
      "Exception ignored in: <function _TemporaryFileCloser.__del__ at 0x104b75300>\n",
      "Traceback (most recent call last):\n",
      "  File \"/Library/Frameworks/Python.framework/Versions/3.11/lib/python3.11/tempfile.py\", line 449, in __del__\n",
      "    def __del__(self):\n",
      "\n",
      "KeyboardInterrupt: \n"
     ]
    },
    {
     "ename": "KeyboardInterrupt",
     "evalue": "",
     "output_type": "error",
     "traceback": [
      "\u001b[0;31m---------------------------------------------------------------------------\u001b[0m",
      "\u001b[0;31mKeyboardInterrupt\u001b[0m                         Traceback (most recent call last)",
      "\u001b[1;32m/Users/sakshi/Desktop/Applied_AI/ML2/Sakshi_task4_Movie_recommender.ipynb Cell 8\u001b[0m line \u001b[0;36m2\n\u001b[1;32m     <a href='vscode-notebook-cell:/Users/sakshi/Desktop/Applied_AI/ML2/Sakshi_task4_Movie_recommender.ipynb#X24sZmlsZQ%3D%3D?line=14'>15</a>\u001b[0m latent_matrix_1_standardized \u001b[39m=\u001b[39m scaler\u001b[39m.\u001b[39mfit_transform(latent_matrix_1)\n\u001b[1;32m     <a href='vscode-notebook-cell:/Users/sakshi/Desktop/Applied_AI/ML2/Sakshi_task4_Movie_recommender.ipynb#X24sZmlsZQ%3D%3D?line=16'>17</a>\u001b[0m \u001b[39m# Collaborative Filtering\u001b[39;00m\n\u001b[1;32m     <a href='vscode-notebook-cell:/Users/sakshi/Desktop/Applied_AI/ML2/Sakshi_task4_Movie_recommender.ipynb#X24sZmlsZQ%3D%3D?line=17'>18</a>\u001b[0m \n\u001b[1;32m     <a href='vscode-notebook-cell:/Users/sakshi/Desktop/Applied_AI/ML2/Sakshi_task4_Movie_recommender.ipynb#X24sZmlsZQ%3D%3D?line=18'>19</a>\u001b[0m \u001b[39m# Create user-movie matrix\u001b[39;00m\n\u001b[0;32m---> <a href='vscode-notebook-cell:/Users/sakshi/Desktop/Applied_AI/ML2/Sakshi_task4_Movie_recommender.ipynb#X24sZmlsZQ%3D%3D?line=19'>20</a>\u001b[0m user_movie_matrix \u001b[39m=\u001b[39m ratings\u001b[39m.\u001b[39;49mpivot(index\u001b[39m=\u001b[39;49m\u001b[39m'\u001b[39;49m\u001b[39muserId\u001b[39;49m\u001b[39m'\u001b[39;49m, columns\u001b[39m=\u001b[39;49m\u001b[39m'\u001b[39;49m\u001b[39mmovieId\u001b[39;49m\u001b[39m'\u001b[39;49m, values\u001b[39m=\u001b[39;49m\u001b[39m'\u001b[39;49m\u001b[39mrating\u001b[39;49m\u001b[39m'\u001b[39;49m)\u001b[39m.\u001b[39;49mfillna(\u001b[39m0\u001b[39;49m)\n\u001b[1;32m     <a href='vscode-notebook-cell:/Users/sakshi/Desktop/Applied_AI/ML2/Sakshi_task4_Movie_recommender.ipynb#X24sZmlsZQ%3D%3D?line=21'>22</a>\u001b[0m \u001b[39m# Normalize by subtracting mean\u001b[39;00m\n\u001b[1;32m     <a href='vscode-notebook-cell:/Users/sakshi/Desktop/Applied_AI/ML2/Sakshi_task4_Movie_recommender.ipynb#X24sZmlsZQ%3D%3D?line=22'>23</a>\u001b[0m user_movie_matrix_mean \u001b[39m=\u001b[39m user_movie_matrix\u001b[39m.\u001b[39mmean(axis\u001b[39m=\u001b[39m\u001b[39m1\u001b[39m)\n",
      "File \u001b[0;32m/Library/Frameworks/Python.framework/Versions/3.11/lib/python3.11/site-packages/pandas/core/generic.py:7297\u001b[0m, in \u001b[0;36mNDFrame.fillna\u001b[0;34m(self, value, method, axis, inplace, limit, downcast)\u001b[0m\n\u001b[1;32m   7295\u001b[0m         new_data \u001b[39m=\u001b[39m result\u001b[39m.\u001b[39m_mgr\n\u001b[1;32m   7296\u001b[0m     \u001b[39melse\u001b[39;00m:\n\u001b[0;32m-> 7297\u001b[0m         new_data \u001b[39m=\u001b[39m \u001b[39mself\u001b[39;49m\u001b[39m.\u001b[39;49m_mgr\u001b[39m.\u001b[39;49mfillna(\n\u001b[1;32m   7298\u001b[0m             value\u001b[39m=\u001b[39;49mvalue, limit\u001b[39m=\u001b[39;49mlimit, inplace\u001b[39m=\u001b[39;49minplace, downcast\u001b[39m=\u001b[39;49mdowncast\n\u001b[1;32m   7299\u001b[0m         )\n\u001b[1;32m   7300\u001b[0m \u001b[39melif\u001b[39;00m \u001b[39misinstance\u001b[39m(value, ABCDataFrame) \u001b[39mand\u001b[39;00m \u001b[39mself\u001b[39m\u001b[39m.\u001b[39mndim \u001b[39m==\u001b[39m \u001b[39m2\u001b[39m:\n\u001b[1;32m   7301\u001b[0m     new_data \u001b[39m=\u001b[39m \u001b[39mself\u001b[39m\u001b[39m.\u001b[39mwhere(\u001b[39mself\u001b[39m\u001b[39m.\u001b[39mnotna(), value)\u001b[39m.\u001b[39m_mgr\n",
      "File \u001b[0;32m/Library/Frameworks/Python.framework/Versions/3.11/lib/python3.11/site-packages/pandas/core/internals/base.py:173\u001b[0m, in \u001b[0;36mDataManager.fillna\u001b[0;34m(self, value, limit, inplace, downcast)\u001b[0m\n\u001b[1;32m    169\u001b[0m \u001b[39mif\u001b[39;00m limit \u001b[39mis\u001b[39;00m \u001b[39mnot\u001b[39;00m \u001b[39mNone\u001b[39;00m:\n\u001b[1;32m    170\u001b[0m     \u001b[39m# Do this validation even if we go through one of the no-op paths\u001b[39;00m\n\u001b[1;32m    171\u001b[0m     limit \u001b[39m=\u001b[39m libalgos\u001b[39m.\u001b[39mvalidate_limit(\u001b[39mNone\u001b[39;00m, limit\u001b[39m=\u001b[39mlimit)\n\u001b[0;32m--> 173\u001b[0m \u001b[39mreturn\u001b[39;00m \u001b[39mself\u001b[39;49m\u001b[39m.\u001b[39;49mapply_with_block(\n\u001b[1;32m    174\u001b[0m     \u001b[39m\"\u001b[39;49m\u001b[39mfillna\u001b[39;49m\u001b[39m\"\u001b[39;49m,\n\u001b[1;32m    175\u001b[0m     value\u001b[39m=\u001b[39;49mvalue,\n\u001b[1;32m    176\u001b[0m     limit\u001b[39m=\u001b[39;49mlimit,\n\u001b[1;32m    177\u001b[0m     inplace\u001b[39m=\u001b[39;49minplace,\n\u001b[1;32m    178\u001b[0m     downcast\u001b[39m=\u001b[39;49mdowncast,\n\u001b[1;32m    179\u001b[0m     using_cow\u001b[39m=\u001b[39;49musing_copy_on_write(),\n\u001b[1;32m    180\u001b[0m )\n",
      "File \u001b[0;32m/Library/Frameworks/Python.framework/Versions/3.11/lib/python3.11/site-packages/pandas/core/internals/managers.py:354\u001b[0m, in \u001b[0;36mBaseBlockManager.apply\u001b[0;34m(self, f, align_keys, **kwargs)\u001b[0m\n\u001b[1;32m    352\u001b[0m         applied \u001b[39m=\u001b[39m b\u001b[39m.\u001b[39mapply(f, \u001b[39m*\u001b[39m\u001b[39m*\u001b[39mkwargs)\n\u001b[1;32m    353\u001b[0m     \u001b[39melse\u001b[39;00m:\n\u001b[0;32m--> 354\u001b[0m         applied \u001b[39m=\u001b[39m \u001b[39mgetattr\u001b[39;49m(b, f)(\u001b[39m*\u001b[39;49m\u001b[39m*\u001b[39;49mkwargs)\n\u001b[1;32m    355\u001b[0m     result_blocks \u001b[39m=\u001b[39m extend_blocks(applied, result_blocks)\n\u001b[1;32m    357\u001b[0m out \u001b[39m=\u001b[39m \u001b[39mtype\u001b[39m(\u001b[39mself\u001b[39m)\u001b[39m.\u001b[39mfrom_blocks(result_blocks, \u001b[39mself\u001b[39m\u001b[39m.\u001b[39maxes)\n",
      "File \u001b[0;32m/Library/Frameworks/Python.framework/Versions/3.11/lib/python3.11/site-packages/pandas/core/internals/blocks.py:1394\u001b[0m, in \u001b[0;36mBlock.fillna\u001b[0;34m(self, value, limit, inplace, downcast, using_cow)\u001b[0m\n\u001b[1;32m   1392\u001b[0m     noop \u001b[39m=\u001b[39m \u001b[39mTrue\u001b[39;00m\n\u001b[1;32m   1393\u001b[0m \u001b[39melse\u001b[39;00m:\n\u001b[0;32m-> 1394\u001b[0m     mask \u001b[39m=\u001b[39m isna(\u001b[39mself\u001b[39;49m\u001b[39m.\u001b[39;49mvalues)\n\u001b[1;32m   1395\u001b[0m     mask, noop \u001b[39m=\u001b[39m validate_putmask(\u001b[39mself\u001b[39m\u001b[39m.\u001b[39mvalues, mask)\n\u001b[1;32m   1397\u001b[0m \u001b[39mif\u001b[39;00m noop:\n\u001b[1;32m   1398\u001b[0m     \u001b[39m# we can't process the value, but nothing to do\u001b[39;00m\n",
      "File \u001b[0;32m/Library/Frameworks/Python.framework/Versions/3.11/lib/python3.11/site-packages/pandas/core/dtypes/missing.py:178\u001b[0m, in \u001b[0;36misna\u001b[0;34m(obj)\u001b[0m\n\u001b[1;32m    101\u001b[0m \u001b[39mdef\u001b[39;00m \u001b[39misna\u001b[39m(obj: \u001b[39mobject\u001b[39m) \u001b[39m-\u001b[39m\u001b[39m>\u001b[39m \u001b[39mbool\u001b[39m \u001b[39m|\u001b[39m npt\u001b[39m.\u001b[39mNDArray[np\u001b[39m.\u001b[39mbool_] \u001b[39m|\u001b[39m NDFrame:\n\u001b[1;32m    102\u001b[0m \u001b[39m    \u001b[39m\u001b[39m\"\"\"\u001b[39;00m\n\u001b[1;32m    103\u001b[0m \u001b[39m    Detect missing values for an array-like object.\u001b[39;00m\n\u001b[1;32m    104\u001b[0m \n\u001b[0;32m   (...)\u001b[0m\n\u001b[1;32m    176\u001b[0m \u001b[39m    Name: 1, dtype: bool\u001b[39;00m\n\u001b[1;32m    177\u001b[0m \u001b[39m    \"\"\"\u001b[39;00m\n\u001b[0;32m--> 178\u001b[0m     \u001b[39mreturn\u001b[39;00m _isna(obj)\n",
      "File \u001b[0;32m/Library/Frameworks/Python.framework/Versions/3.11/lib/python3.11/site-packages/pandas/core/dtypes/missing.py:207\u001b[0m, in \u001b[0;36m_isna\u001b[0;34m(obj, inf_as_na)\u001b[0m\n\u001b[1;32m    205\u001b[0m     \u001b[39mreturn\u001b[39;00m \u001b[39mFalse\u001b[39;00m\n\u001b[1;32m    206\u001b[0m \u001b[39melif\u001b[39;00m \u001b[39misinstance\u001b[39m(obj, (np\u001b[39m.\u001b[39mndarray, ABCExtensionArray)):\n\u001b[0;32m--> 207\u001b[0m     \u001b[39mreturn\u001b[39;00m _isna_array(obj, inf_as_na\u001b[39m=\u001b[39;49minf_as_na)\n\u001b[1;32m    208\u001b[0m \u001b[39melif\u001b[39;00m \u001b[39misinstance\u001b[39m(obj, ABCIndex):\n\u001b[1;32m    209\u001b[0m     \u001b[39m# Try to use cached isna, which also short-circuits for integer dtypes\u001b[39;00m\n\u001b[1;32m    210\u001b[0m     \u001b[39m#  and avoids materializing RangeIndex._values\u001b[39;00m\n\u001b[1;32m    211\u001b[0m     \u001b[39mif\u001b[39;00m \u001b[39mnot\u001b[39;00m obj\u001b[39m.\u001b[39m_can_hold_na:\n",
      "File \u001b[0;32m/Library/Frameworks/Python.framework/Versions/3.11/lib/python3.11/site-packages/pandas/core/dtypes/missing.py:300\u001b[0m, in \u001b[0;36m_isna_array\u001b[0;34m(values, inf_as_na)\u001b[0m\n\u001b[1;32m    298\u001b[0m         result \u001b[39m=\u001b[39m \u001b[39m~\u001b[39mnp\u001b[39m.\u001b[39misfinite(values)\n\u001b[1;32m    299\u001b[0m     \u001b[39melse\u001b[39;00m:\n\u001b[0;32m--> 300\u001b[0m         result \u001b[39m=\u001b[39m np\u001b[39m.\u001b[39;49misnan(values)\n\u001b[1;32m    302\u001b[0m \u001b[39mreturn\u001b[39;00m result\n",
      "\u001b[0;31mKeyboardInterrupt\u001b[0m: "
     ]
    }
   ],
   "source": [
    "\n",
    "\n",
    "\n",
    "\n",
    "\n",
    "\n",
    "\n",
    "\n",
    "\n",
    "\n",
    "\n",
    "\n",
    "# Normalize by subtracting mean\n",
    "user_movie_matrix_mean = user_movie_matrix.mean(axis=1)\n",
    "user_movie_matrix_normalized = user_movie_matrix.sub(user_movie_matrix_mean, axis=0)\n",
    "\n",
    "# Fill NaN values with 0\n",
    "user_movie_matrix_normalized = user_movie_matrix_normalized.fillna(0)\n",
    "\n",
    "# Calculate user similarity using cosine similarity\n",
    "user_similarity = cosine_similarity(user_movie_matrix_normalized)\n",
    "\n",
    "# Hybrid Model\n",
    "\n",
    "# Combine content-based and collaborative filtering matrices\n",
    "hybrid_matrix = np.concatenate([latent_matrix_1_standardized, user_similarity.T], axis=1)\n",
    "\n",
    "# User-Item Rating Matrix for Evaluation\n",
    "user_item_matrix = ratings.pivot(index='userId', columns='movieId', values='rating').fillna(0)\n",
    "\n",
    "# Train-test split for evaluation\n",
    "train_matrix, test_matrix = train_test_split(user_item_matrix.values, test_size=0.2, random_state=42)\n",
    "\n",
    "# Predict using hybrid model\n",
    "predictions = pairwise_distances(hybrid_matrix, metric='cosine').dot(train_matrix) / np.abs(pairwise_distances(hybrid_matrix, metric='cosine').sum(axis=1, keepdims=True))\n",
    "\n",
    "# Evaluate the model using Mean Squared Error\n",
    "mse = mean_squared_error(test_matrix[test_matrix.nonzero()], predictions[test_matrix.nonzero()])\n",
    "print(f'Mean Squared Error: {mse}')"
   ]
  },
  {
   "cell_type": "code",
   "execution_count": null,
   "metadata": {},
   "outputs": [],
   "source": []
  }
 ],
 "metadata": {
  "kernelspec": {
   "display_name": "Python 3",
   "language": "python",
   "name": "python3"
  },
  "language_info": {
   "codemirror_mode": {
    "name": "ipython",
    "version": 3
   },
   "file_extension": ".py",
   "mimetype": "text/x-python",
   "name": "python",
   "nbconvert_exporter": "python",
   "pygments_lexer": "ipython3",
   "version": "3.11.5"
  }
 },
 "nbformat": 4,
 "nbformat_minor": 2
}
