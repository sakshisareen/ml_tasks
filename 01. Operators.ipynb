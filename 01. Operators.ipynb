{
 "cells": [
  {
   "cell_type": "markdown",
   "metadata": {},
   "source": [
    "# Operators\n",
    "\n",
    "## What actually is Python?\n",
    "For a computer, Python code is simply characters on a screen. These characters have no idea what to do with themselves unless some other computer program translates them to a language that a machine can understand. It's important to understand that Python is a programming language and that Python the programming language has many different **implementations** that turn those characters to executable machine code. \n",
    "\n",
    "### What does implementation mean?\n",
    "\n",
    "The original implementation of Python is called **CPython** written mainly in C by the ['Benevolent Dictator for Life'][1] Guido van Rossum who started the project in the 80's and released it in 1991. CPython parses the Python code and compiles it to Python bytecode which is then interpreted by the CPython virtual machine.\n",
    "\n",
    "Python is an open source language that anyone can contribute to. See the [github repository][2] where [Guido][3] still commits to frequently. Python is considered an **interpreted** language because it is not compiled down to machine code but rather interpreted at run-time (with CPython). Python is also a **dynamically-typed language**, meaning that variables can change types after declaration. Because of these things, it usually executes much slower (10-1000x) than compiled languages like C or Fortran.\n",
    "\n",
    "### Why use Python?\n",
    "Python is a **high-level** language. High-level as, it is a programming language that is easy to learn, with simple and compact syntax, as well as being quite powerful to complete nearly any task.\n",
    "\n",
    "Since Python does not have to be compiled (technically it is compiled to bytecode but not down to machine code like C), it can be used interactively which makes it excellent for scientific computing where results from operations need to be seen to write further code. Your code can also actually look very similar to what it would look like on paper as a scientist.\n",
    "\n",
    "Python handles many things under the hood like memory management that a lower language like C does not so that you can concentrate on development. \n",
    "\n",
    "It is a general purpose programming languages allowing you to develop a wide range of applications from the web to full scale data science pipelines. A small sacrifice in inefficiency allows for great productivity as a developer.\n",
    "\n",
    "### Your first lines of Python in this chapter\n",
    "As previously mentioned, you can only execute Python code in code cells. Code blocks also always have **`In [ ]:`** to the left of them. If there is a number in the brackets, it means that cell was executed and if the code block produced output, you will see an **`Out[10]:`** section below. The number in brackets is the cell's execution order. So, if you see a 10 in the cell, it means that it was the 10th cell to be executed the last time it was ran.\n",
    "\n",
    "### Reminder to execute cells\n",
    "All the code cells in this notebook are not executed upon first usage. You can tell they are not executed because they all look like this:\n",
    "\n",
    "> **`In [ ]:`**\n",
    "\n",
    "Absent of any number inside the bracket. Make sure you are executing the cells with code inside to follow along with the text.\n",
    "\n",
    "### Add two numbers together\n",
    "Let's begin this chapter by adding together two numbers:\n",
    "\n",
    "[1]: https://en.wikipedia.org/wiki/Benevolent_dictator_for_life\n",
    "[2]: https://github.com/python/cpython\n",
    "[3]: https://github.com/gvanrossum"
   ]
  },
  {
   "cell_type": "code",
   "execution_count": null,
   "metadata": {},
   "outputs": [],
   "source": [
    "2 + 5"
   ]
  },
  {
   "cell_type": "markdown",
   "metadata": {},
   "source": [
    "## Operators\n",
    "In the above line of code, the addition **operator** was used to add two numbers together. It is important to understand exactly what is meant by the word operator as it will appear frequently within this text. There are many different operators in Python and they all perform some kind of calculation (usually referred to as an operation). Operators typically consist of one or two non-alphabetic symbols. Operators are much easier to understand with examples.\n",
    "\n",
    "There are several different categories of operators, of which, the following two will be covered in this chapter.\n",
    "* Arithmetic operators\n",
    "* Comparison operators\n",
    "* Unary plus/minus operators\n",
    "* Boolean Operators\n",
    "\n",
    "\n",
    "## Arithmetic operators\n",
    "\n",
    "There are four arithmetic operators for doing basic arithmetic in Python:\n",
    "\n",
    "* `+` - Addition operator\n",
    "* `-` - Subtraction operator\n",
    "* `*` - Multiplication operator\n",
    "* `/` - Division operator\n",
    "\n",
    "These all work by placing the operator between two values. Let's see some examples of each:"
   ]
  },
  {
   "cell_type": "code",
   "execution_count": null,
   "metadata": {},
   "outputs": [],
   "source": [
    "4 + 3"
   ]
  },
  {
   "cell_type": "code",
   "execution_count": null,
   "metadata": {},
   "outputs": [],
   "source": [
    "2 - 10"
   ]
  },
  {
   "cell_type": "code",
   "execution_count": null,
   "metadata": {},
   "outputs": [],
   "source": [
    "23 * 6"
   ]
  },
  {
   "cell_type": "code",
   "execution_count": null,
   "metadata": {},
   "outputs": [],
   "source": [
    "132 / 15"
   ]
  },
  {
   "cell_type": "markdown",
   "metadata": {},
   "source": [
    "### Arguments\n",
    "The above expressions are all very simple but there are a few technical terms that are good to know as you will see them in the official Python documentation and in other texts. The two values in each of the expressions are referred to as **arguments** and less commonly as **operands**. For instance, the arguments for the multiplication operator above are 23 and 6.\n",
    "\n",
    "All of the above operators are considered **binary** operators, meaning that they operate on exactly **two** arguments. This is contrasted with **unary** operators, which operate on exactly **one** argument and **ternary** operators which operate on exactly **three**.\n",
    "\n",
    "If you'd like more formal coverage of this terminology, please direct yourself to the following links:\n",
    "* [Operator (Wikipedia)][0]\n",
    "* [Operand (Wikipedia][1]\n",
    "\n",
    "[0]: https://en.wikipedia.org/wiki/Operator_(computer_programming)\n",
    "[1]: https://en.wikipedia.org/wiki/Operand\n",
    "\n",
    "### More arithmetic operators\n",
    "\n",
    "Besides these four basic arithmetic operators, there are four more:\n",
    "\n",
    "* `**` - Power (or exponentiation) operator\n",
    "* `\\\\` - Floor division operator\n",
    "* `%` - Modulus operator\n",
    "* `@` - 'At' (matrix multiplication) operator\n",
    "\n",
    "The power and floor division operators consist of two symbols that must appear consecutively together without a space. Let's see how each of these work with examples.\n",
    "\n",
    "The power operator raises the first argument to the power of the second."
   ]
  },
  {
   "cell_type": "code",
   "execution_count": null,
   "metadata": {},
   "outputs": [],
   "source": [
    "2 ** 5"
   ]
  },
  {
   "cell_type": "markdown",
   "metadata": {},
   "source": [
    "The floor division operator returns the quotient (whole number) part of the division between the first and second arguments. Note, that the key word here is **floor**. There is no rounding here. The `/` operator is sometimes referred to as the **true division** operator to distinguish it from the floor division operaor."
   ]
  },
  {
   "cell_type": "code",
   "execution_count": null,
   "metadata": {},
   "outputs": [],
   "source": [
    "123 // 15"
   ]
  },
  {
   "cell_type": "markdown",
   "metadata": {},
   "source": [
    "The modulus operator returns the remainder from the division between the first and second arguments."
   ]
  },
  {
   "cell_type": "code",
   "execution_count": null,
   "metadata": {},
   "outputs": [],
   "source": [
    "123 % 15"
   ]
  },
  {
   "cell_type": "markdown",
   "metadata": {},
   "source": [
    "The matrix multiplication operator does not work with any basic numeric types. It does however work when doing matrix multiplication with numpy arrays, which are not covered in this book. This is the newest operator to come into existence for Python, being implemented in version 3.5 which was released in 2015. Running the code below will cause an error. The integer operands (the 5 and 3) don't support this operator."
   ]
  },
  {
   "cell_type": "code",
   "execution_count": null,
   "metadata": {},
   "outputs": [],
   "source": [
    "5 @ 3"
   ]
  },
  {
   "cell_type": "markdown",
   "metadata": {},
   "source": [
    "### Multiple arithmetic operators\n",
    "It is possible to use as many arithmetic operators together as you would like in a single line of code, provided there is no error such as dividing by 0. Below, we use the four basic arithmetic operators in a single expression."
   ]
  },
  {
   "cell_type": "code",
   "execution_count": null,
   "metadata": {},
   "outputs": [],
   "source": [
    "7 * 7 - 50 + 100 / 6"
   ]
  },
  {
   "cell_type": "markdown",
   "metadata": {},
   "source": [
    "Of course, you are not limited to use just the basic arithmetic operators in a single expression. Let's see a slightly more complex example:"
   ]
  },
  {
   "cell_type": "code",
   "execution_count": null,
   "metadata": {},
   "outputs": [],
   "source": [
    "10 + 13 // 7 ** 2 - 10"
   ]
  },
  {
   "cell_type": "markdown",
   "metadata": {},
   "source": [
    "### Where do I enter my code for this assignment?\n",
    "From here on out, there will be many cells that contain an exercise that requires some Python code to be entered. Place your solutions to the exercises in the empty code cell directly below the exercise.\n",
    "\n",
    "### Exercise 1\n",
    "<span style=\"color:green\">How many seconds are there in a century?</span>"
   ]
  },
  {
   "cell_type": "code",
   "execution_count": null,
   "metadata": {},
   "outputs": [],
   "source": []
  },
  {
   "cell_type": "markdown",
   "metadata": {},
   "source": [
    "### Solutions\n",
    "All the solutions for the exercises may be found in the **Solutions** notebook. Make sure to attempt the exercises before looking at the solutions. Even if you have solved the exercise correctly, it can be helpful to see the provided solution. There are often multiple ways of arriving at the same answer and there might be a more direct or effective way."
   ]
  },
  {
   "cell_type": "code",
   "execution_count": null,
   "metadata": {},
   "outputs": [],
   "source": []
  },
  {
   "cell_type": "markdown",
   "metadata": {},
   "source": [
    "### Exercise 2\n",
    "<span style=\"color:green\">Write an expression to find the amount of money (as a whole number rounded down to the nearest integer) that each person would get if a one-million dollar lottery was divided equally amongst 436 people.</span>"
   ]
  },
  {
   "cell_type": "code",
   "execution_count": null,
   "metadata": {},
   "outputs": [],
   "source": []
  },
  {
   "cell_type": "markdown",
   "metadata": {},
   "source": [
    "### Exercise 3\n",
    "<span style=\"color:green\">Repeat exercise 2, except use one-trillion dollars. Use the exponentiation operator instead of writing lots of 0's.</span>"
   ]
  },
  {
   "cell_type": "code",
   "execution_count": null,
   "metadata": {},
   "outputs": [],
   "source": []
  },
  {
   "cell_type": "markdown",
   "metadata": {},
   "source": [
    "## Operator Precedence\n",
    "Every Python expression has a strict evaluation order based on operator precedence. This operator precedence is a hierarchy that can be found in it's entirety in the [official Python documentation][0]. If you clicked the link, you'll see many operators that we have yet to cover. Take note that the list is ordered from lowest to highest precedence. The table below reduces the operators to just the ones covered in this chapter.\n",
    "\n",
    "| Operator               | Name                                                  |\n",
    "|------------------------|-------------------------------------------------------|\n",
    "| `or`                   | Boolean OR                                        |\n",
    "| `and`                   | Boolean AND                                        |\n",
    "| `not x`                   | Boolean NOT                                        |\n",
    "| `<, <=, >, >=, !=, ==` | Comparison operators                                  |\n",
    "| `+, -`                 | Addition, Subtraction                                 |\n",
    "| `*, /, //, %, @`       | Multiplication, Division, Floor Division, Modulus, At |\n",
    "| `+x, -x`               | Unary Plus/Minus (explained later)                    |\n",
    "| `**`                   | Exponentiation                                        |\n",
    "\n",
    "### Stepping through an example\n",
    "Let's step through the previous example one operation at a time. In the previous expression, the exponentiation operator has the highest precedence, so `7 ** 2` was evaluated first and reduced the expression to the following:\n",
    "\n",
    "```\n",
    "10 + 13 // 49 - 10\n",
    "```\n",
    "\n",
    "The floor division operator has the next level of precedence and reduces the expression further.\n",
    "\n",
    "```\n",
    "10 + 0 - 10\n",
    "```\n",
    "\n",
    "When two operators have the same precedence, i.e. they reside on the same line on the operator precedence table, Python evaluates from left to right. Both addition and subtraction have the same precedence.\n",
    "\n",
    "```\n",
    "10 - 10\n",
    "```\n",
    "\n",
    "This finally evaluates to 0.\n",
    "\n",
    "### Change operator precedence with parentheses\n",
    "Most people will learn about operator precedence in grade school through the phrase \"order of operations\" and remember the actual order with the acronym PEMDAS. The acronym refers to the phrase \"Please Excuse My Dear Aunt Sally\" or some other more affectionate variation and represents the order of operations: Parentheses Exponents, Multiplication, Division, Addition, and Subtraction.\n",
    "\n",
    "To change the operator precedence of an expression, you may contain a portion of it within a set of opening and closing parentheses. If they exist, parentheses always dictate where an expression will first begin evaluation. Let's change the operator precedence of the previous operation.\n",
    "\n",
    "[0]: https://docs.python.org/3/reference/expressions.html#operator-precedence"
   ]
  },
  {
   "cell_type": "code",
   "execution_count": null,
   "metadata": {},
   "outputs": [],
   "source": [
    "(10 + (13 // 7)) ** 2 - 10"
   ]
  },
  {
   "cell_type": "markdown",
   "metadata": {},
   "source": [
    "The above expression has two sets of parentheses. The expression within the innermost set of parentheses is evaluated first. The execution order takes place like this.\n",
    "\n",
    "```\n",
    "(10 + 1) ** 2 - 10\n",
    "11 ** 2 - 10\n",
    "121 - 10\n",
    "111\n",
    "```"
   ]
  },
  {
   "cell_type": "markdown",
   "metadata": {},
   "source": [
    "### Exercise 4\n",
    "<span style=\"color:green\">One-million dollars does not divide evenly amongst 436 people. Write a single expression to calculate the number of extra dollars that need to be added to the pot so that each person receives one more dollar than was calculated in Exercise 2. Do not use the result of Exercise 2. Verify the result in a separate cell.</span>"
   ]
  },
  {
   "cell_type": "code",
   "execution_count": null,
   "metadata": {},
   "outputs": [],
   "source": []
  },
  {
   "cell_type": "markdown",
   "metadata": {},
   "source": [
    "## Comparison Operators\n",
    "\n",
    "Python provides six binary comparison operators to compare two values.\n",
    "\n",
    "* `>` - Greater than operator\n",
    "* `<` - Less than operator\n",
    "* `>=` - Greater than or equal to operator\n",
    "* `<=` - Less than or equal to operator\n",
    "* `==` - Equal to operator\n",
    "* `!=` - Not equal to operator\n",
    "\n",
    "Note that the last four operators use two symbols. When comparing numeric values, these operators will always evaluate as `True` or `False`. Let's see some examples:"
   ]
  },
  {
   "cell_type": "code",
   "execution_count": null,
   "metadata": {},
   "outputs": [],
   "source": [
    "5 > 4"
   ]
  },
  {
   "cell_type": "code",
   "execution_count": null,
   "metadata": {},
   "outputs": [],
   "source": [
    "3 < -99"
   ]
  },
  {
   "cell_type": "code",
   "execution_count": null,
   "metadata": {},
   "outputs": [],
   "source": [
    "5 >= 5"
   ]
  },
  {
   "cell_type": "code",
   "execution_count": null,
   "metadata": {},
   "outputs": [],
   "source": [
    "4 <= 3.999"
   ]
  },
  {
   "cell_type": "code",
   "execution_count": null,
   "metadata": {},
   "outputs": [],
   "source": [
    "0 == 99"
   ]
  },
  {
   "cell_type": "code",
   "execution_count": null,
   "metadata": {},
   "outputs": [],
   "source": [
    "0 != 99"
   ]
  },
  {
   "cell_type": "markdown",
   "metadata": {},
   "source": [
    "### Comparison and arithmetic operators together\n",
    "Comparison operators can be added to expressions in the exact same fashion that the arithmetic operators can. Looking at the operator precedence table from above, we can see that the comparison operators have the lowest precedence, so they are the last to be evaluated."
   ]
  },
  {
   "cell_type": "code",
   "execution_count": null,
   "metadata": {},
   "outputs": [],
   "source": [
    "4 * 3 > 2 ** 4 - 5"
   ]
  },
  {
   "cell_type": "markdown",
   "metadata": {},
   "source": [
    "### Multiple comparison operators in a single expression\n",
    "It is possible to use more than a single comparison operator in a single expression. Let's see a few examples:"
   ]
  },
  {
   "cell_type": "code",
   "execution_count": null,
   "metadata": {},
   "outputs": [],
   "source": [
    "10 > 5 > -99"
   ]
  },
  {
   "cell_type": "code",
   "execution_count": null,
   "metadata": {},
   "outputs": [],
   "source": [
    "10 > 5 >= 5 > 4 > 1"
   ]
  },
  {
   "cell_type": "code",
   "execution_count": null,
   "metadata": {},
   "outputs": [],
   "source": [
    "100 > 99 < 100 > 99 < 100"
   ]
  },
  {
   "cell_type": "code",
   "execution_count": null,
   "metadata": {},
   "outputs": [],
   "source": [
    "2 * 3 > 5 > 31 // 4"
   ]
  },
  {
   "cell_type": "markdown",
   "metadata": {},
   "source": [
    "### Exercise 5\n",
    "<span style=\"color:green\">Which is greater: 245 times 99 or 8 raised to the 5th power?</span>"
   ]
  },
  {
   "cell_type": "code",
   "execution_count": null,
   "metadata": {},
   "outputs": [],
   "source": []
  },
  {
   "cell_type": "markdown",
   "metadata": {},
   "source": [
    "## Unary Plus/Minus Operators\n",
    "\n",
    "We have already covered the addition and subtraction binary operators. The unary plus and minus operators use the exact same symbols as their operator. As the name implies, these operators are unary, meaning they act on a single argument. These operators are simply placed immediately before their argument. \n",
    "\n",
    "\n",
    "The plus operator doesn't really do anything. The minus operator does negate the number following it. Let's see a few examples."
   ]
  },
  {
   "cell_type": "code",
   "execution_count": null,
   "metadata": {},
   "outputs": [],
   "source": [
    "+10"
   ]
  },
  {
   "cell_type": "markdown",
   "metadata": {},
   "source": [
    "Python reads the following as the unary minus operator followed by the number 5. They are considered two separate pieces of syntax that Python reads independently. Python then negates the value of 5 and returns it."
   ]
  },
  {
   "cell_type": "code",
   "execution_count": null,
   "metadata": {},
   "outputs": [],
   "source": [
    "-5"
   ]
  },
  {
   "cell_type": "markdown",
   "metadata": {},
   "source": [
    "Python again reads the following example as two separate pieces of syntax. The unary minus operator and the number 999."
   ]
  },
  {
   "cell_type": "code",
   "execution_count": null,
   "metadata": {},
   "outputs": [],
   "source": [
    "-999"
   ]
  },
  {
   "cell_type": "markdown",
   "metadata": {},
   "source": [
    "The following example should prove to you that `-5` is read by Python as two separate pieces of syntax. Here, we raise it to the second power."
   ]
  },
  {
   "cell_type": "code",
   "execution_count": null,
   "metadata": {},
   "outputs": [],
   "source": [
    "-5 ** 2"
   ]
  },
  {
   "cell_type": "markdown",
   "metadata": {},
   "source": [
    "If you look back up at the operator precedence table, you'll notice that the exponentiation operator has higher precedence than the unary minus operator. Python analyzes the line of code by taking the number 5 and raising it to the second power. This evaluates as 25. It then applies the unary operation to finally return -25.\n",
    "\n",
    "### Binary vs unary operators\n",
    "Take a look at the following operation. It begins with a 0, but otherwise is identical to the last expression. Does the `-` symbol a binary subtraction operator or a unary minus operator?"
   ]
  },
  {
   "cell_type": "code",
   "execution_count": null,
   "metadata": {},
   "outputs": [],
   "source": [
    "0 - 5 ** 2"
   ]
  },
  {
   "cell_type": "markdown",
   "metadata": {},
   "source": [
    "It's now considered a binary subtraction operator with its first argument as 0 and second as 25.\n",
    "\n",
    "## Boolean Operators\n",
    "\n",
    "Python has three boolean operators that can be used to make complex logical statements. They are:\n",
    "* `and`\n",
    "* `or`\n",
    "* `not`\n",
    "\n",
    "These are the first operators that use alphabetical symbols. They are reserved **keywords** and will turn green and be in bold font in the Jupyter Notebook. You are not allowed to use them as variable names and infact will get a syntax error if you attempt doing so.\n",
    "\n",
    "### The `and` operator\n",
    "\n",
    "The `and` operator is binary and is placed between two arguments. Both arguments must be boolean values, meaning only either `True` or `False`. The `and` operator evaluates as `True` if both its arguments are `True`. It evaluates as `False` otherwise. Let's take a look at all four possible combinations of a single `and` operation."
   ]
  },
  {
   "cell_type": "code",
   "execution_count": null,
   "metadata": {},
   "outputs": [],
   "source": [
    "True and True"
   ]
  },
  {
   "cell_type": "code",
   "execution_count": null,
   "metadata": {},
   "outputs": [],
   "source": [
    "True and False"
   ]
  },
  {
   "cell_type": "code",
   "execution_count": null,
   "metadata": {},
   "outputs": [],
   "source": [
    "False and True"
   ]
  },
  {
   "cell_type": "code",
   "execution_count": null,
   "metadata": {},
   "outputs": [],
   "source": [
    "False and False"
   ]
  },
  {
   "cell_type": "markdown",
   "metadata": {},
   "source": [
    "It is common to see logical expressions such as these organized as a [Truth Table][0] where `p` and `q` are the arguments of the `and` operation.\n",
    "\n",
    "| `p`  | `q` | `p and q` |\n",
    "|-------|-------|----------------|\n",
    "| True  | True  | True           |\n",
    "| True  | False | False          |\n",
    "| False | True  | False          |\n",
    "| False | False | False          |\n",
    "\n",
    "[0]: https://en.wikipedia.org/wiki/Truth_table"
   ]
  },
  {
   "cell_type": "markdown",
   "metadata": {},
   "source": [
    "### The `or` operator\n",
    "\n",
    "The `or` operator is also binary and evaluates as `True` if one or both of its arguments are `True`. Let's run the same four combinations above as `or` operations."
   ]
  },
  {
   "cell_type": "code",
   "execution_count": null,
   "metadata": {},
   "outputs": [],
   "source": [
    "True or True"
   ]
  },
  {
   "cell_type": "code",
   "execution_count": null,
   "metadata": {},
   "outputs": [],
   "source": [
    "True or False"
   ]
  },
  {
   "cell_type": "code",
   "execution_count": null,
   "metadata": {},
   "outputs": [],
   "source": [
    "False or True"
   ]
  },
  {
   "cell_type": "code",
   "execution_count": null,
   "metadata": {},
   "outputs": [],
   "source": [
    "False or False"
   ]
  },
  {
   "cell_type": "markdown",
   "metadata": {},
   "source": [
    "It's truth table can be represented with the following table.\n",
    "\n",
    "\n",
    "| `p`  | `q` | `p or q` |\n",
    "|-------|-------|----------------|\n",
    "| True  | True  | True           |\n",
    "| True  | False | True          |\n",
    "| False | True  | True          |\n",
    "| False | False | False          |\n",
    "\n",
    "\n",
    "### The `not` operator\n",
    "\n",
    "The `not` operator is a unary operator that precedes a single boolean argument. It inverts its given argument. It's truth table with both simple examples are shown below.\n",
    "\n",
    "| `p` | `not p` |\n",
    "|-------|-------|\n",
    "| True  |  False           |\n",
    "| False  | True      |\n"
   ]
  },
  {
   "cell_type": "code",
   "execution_count": null,
   "metadata": {},
   "outputs": [],
   "source": [
    "not True"
   ]
  },
  {
   "cell_type": "code",
   "execution_count": null,
   "metadata": {},
   "outputs": [],
   "source": [
    "not False"
   ]
  },
  {
   "cell_type": "markdown",
   "metadata": {},
   "source": [
    "### Combining boolean and other operators\n",
    "\n",
    "Boolean operators have the lowest precedence amongst the operators presented in this chapter. Other operations can take place on the same line as a boolean operator. When it comes time to evaluate boolean operators, its arguments must be booleans (or must have a truth value associated with them. More on this in a later chapter).\n",
    "\n",
    "The only way shown thus far to produce boolean values is to make use of the comparison operators. Let's see a simple example below:"
   ]
  },
  {
   "cell_type": "code",
   "execution_count": null,
   "metadata": {},
   "outputs": [],
   "source": [
    "5 > 3 and 10 > 7"
   ]
  },
  {
   "cell_type": "markdown",
   "metadata": {},
   "source": [
    "Python evaluates the two greater-than operations first, reducing the expression to `True and True` which then evaluates as `True`. Let's see a slightly different example using the `or` operator."
   ]
  },
  {
   "cell_type": "code",
   "execution_count": null,
   "metadata": {},
   "outputs": [],
   "source": [
    "5 > 99 or 10 > 7"
   ]
  },
  {
   "cell_type": "markdown",
   "metadata": {},
   "source": [
    "The first comparison is now `False` but the overall expression is still `True` as the `or` operator only requires a single `True` argument. Let's see this same example but begin the expression with the `not` operator."
   ]
  },
  {
   "cell_type": "code",
   "execution_count": null,
   "metadata": {},
   "outputs": [],
   "source": [
    "not 5 > 99 or 10 > 7"
   ]
  },
  {
   "cell_type": "markdown",
   "metadata": {},
   "source": [
    "From the operator precedence table, we can see that our three boolean operators do not have the same precedence. The `not` operator takes precedence over `and` which takes precedence over `or`. The previous expression gets evaluated as:\n",
    "\n",
    "```\n",
    "not False or True\n",
    "True or True\n",
    "True\n",
    "```\n",
    "\n",
    "If we change the order of precedence by placing parentheses around everything following `not` we the opposite result."
   ]
  },
  {
   "cell_type": "code",
   "execution_count": null,
   "metadata": {},
   "outputs": [],
   "source": [
    "not (5 > 99 or 10 > 7)"
   ]
  },
  {
   "cell_type": "markdown",
   "metadata": {},
   "source": [
    "## Assigning values to variables\n",
    "In the last chapter, all of the cells contained a single line of code. This line of code was evaluated and the result was outputted to the screen. None of the results were assigned to a variable for future reference. Python allows you to assign values to variables with a single equals sign. This equals sign represents the **assignment statement**. The variable name will always be to the left of the equals sign. The value it is getting assigned will be on the right. Let's create a simple assignment statement by assigning the value 7 to the variable name `num`."
   ]
  },
  {
   "cell_type": "code",
   "execution_count": null,
   "metadata": {},
   "outputs": [],
   "source": [
    "num = 7"
   ]
  },
  {
   "cell_type": "markdown",
   "metadata": {},
   "source": [
    "Notice, that there is no output whenever an assignment statement is created. Now, `num` is a variable that refers to the value 7. We can reuse `num` every place in our program where we would like to refer to the number 7. Let's verify that the variable `num` does indeed refer to the value 7."
   ]
  },
  {
   "cell_type": "code",
   "execution_count": null,
   "metadata": {},
   "outputs": [],
   "source": [
    "num"
   ]
  },
  {
   "cell_type": "markdown",
   "metadata": {},
   "source": [
    "Variables may be used in expressions as if they were the literal values themselves."
   ]
  },
  {
   "cell_type": "code",
   "execution_count": null,
   "metadata": {},
   "outputs": [],
   "source": [
    "num ** 2 + 10"
   ]
  },
  {
   "cell_type": "markdown",
   "metadata": {},
   "source": [
    "### Valid variable names\n",
    "\n",
    "Python has rules for what it allows as a valid variable name.\n",
    "\n",
    "* All lowercase and uppercase alphabetic characters and digits (a-z, A-Z, and 0-9) are acceptable\n",
    "* The underscore is acceptable\n",
    "* Names cannot begin with a digit\n",
    "* Many thousands of Unicode characters are also available\n",
    "\n",
    "Variable names may be any length and they are case sensitive meaning `num` is different than `NUM` is different than `nUm`. The official documentation provides [this website][0] to view all the valid Unicode characters. Below, some Greek characters are used to create a variable name and assign it a value.\n",
    "\n",
    "[0]: https://www.dcl.hpi.uni-potsdam.de/home/loewis/table-3131.html"
   ]
  },
  {
   "cell_type": "code",
   "execution_count": null,
   "metadata": {},
   "outputs": [],
   "source": [
    "ξηλο = 15"
   ]
  },
  {
   "cell_type": "markdown",
   "metadata": {},
   "source": [
    "It's extremely rare to use anything other than the alphanumeric or underscore characters. In fact it's more likely to add confusion to those who read your code later on and these other Unicode characters should probably be avoided.\n",
    "\n",
    "### Multiple lines of code\n",
    "All the of cells thus far have contained a single line of code. It's possible to write any number of lines of code within a single cell. Below we create three new variables."
   ]
  },
  {
   "cell_type": "code",
   "execution_count": null,
   "metadata": {},
   "outputs": [],
   "source": [
    "a = 10\n",
    "b = 2\n",
    "c = b ** 3"
   ]
  },
  {
   "cell_type": "markdown",
   "metadata": {},
   "source": [
    "### Outputting more than one variable at a same time\n",
    "You can output more than one variable at the same time by separating them with commas. This technically creates a tuple which we cover later."
   ]
  },
  {
   "cell_type": "code",
   "execution_count": null,
   "metadata": {},
   "outputs": [],
   "source": [
    "a, b, c"
   ]
  },
  {
   "cell_type": "markdown",
   "metadata": {},
   "source": [
    "### More complex assignments\n",
    "\n",
    "The expression to the right of the equals sign can be made arbitrarily complex. Let's see some examples."
   ]
  },
  {
   "cell_type": "code",
   "execution_count": null,
   "metadata": {},
   "outputs": [],
   "source": [
    "num2 = (12 - 3) * -2 ** 4 / 31\n",
    "num3 = 45 // 3 + 12 - 19 % 4 > 3"
   ]
  },
  {
   "cell_type": "markdown",
   "metadata": {},
   "source": [
    "### No operator precedence for assignment statement\n",
    "If you look at the operator precedence table, you'll notice that the assignment statement (a single equals sign) does not appear. This is because the equals sign is NOT an operator. By definition, an operator has one or more arguments and produces a new value. The assignment statement does not do this. There is no returned value or output.\n",
    "\n",
    "Even though the assignment statement is not an operator, there is still an order of how the line of code gets executed. Everything to the right of the equals sign is evaluated first and then the assignment takes place."
   ]
  },
  {
   "cell_type": "markdown",
   "metadata": {},
   "source": [
    "### Exercise 6\n",
    "<span style=\"color:green\">Use three different variables to store a 15% sales tax on a $70 meal to get the total and output all of them at the same time</span>"
   ]
  },
  {
   "cell_type": "code",
   "execution_count": null,
   "metadata": {},
   "outputs": [],
   "source": []
  },
  {
   "cell_type": "markdown",
   "metadata": {},
   "source": [
    "## Comments\n",
    "Comments are parts of your code that are ignored by the interpreter. In Python, comments are created with the hash symbol, `#`. Anything that follows the hash symbol are commented out. Within Jupyter Notebooks, comments will be colored a dull green and *italicized*."
   ]
  },
  {
   "cell_type": "code",
   "execution_count": null,
   "metadata": {},
   "outputs": [],
   "source": [
    "# This cell assigns integers to variables num1 and num2\n",
    "# and then adds them together\n",
    "num1 = 99\n",
    "num2 = -99\n",
    "num1 + num2"
   ]
  },
  {
   "cell_type": "markdown",
   "metadata": {},
   "source": [
    "Comments can appear on the same line as valid code but no code may be written after them."
   ]
  },
  {
   "cell_type": "code",
   "execution_count": null,
   "metadata": {},
   "outputs": [],
   "source": [
    "num1 = 22 # Assigning 22 to the variable num1\n",
    "num1 ** 2"
   ]
  },
  {
   "cell_type": "markdown",
   "metadata": {},
   "source": [
    "## Augmented assignment statements\n",
    "\n",
    "Augmented assignment statements are combinations of normal assignment statements with an arithmetic operation. They are used to **reassign** the value of a previously created variable. Below is a list of the most common ones.\n",
    "\n",
    "> `+=`, `-=`, `*=`, `/=`, `//=`, `%=`, `**=`\n",
    "\n",
    "The variable you are using with an augmented assignment statement must already be created. Let's create the variable `x` and assign it to the value 5."
   ]
  },
  {
   "cell_type": "code",
   "execution_count": null,
   "metadata": {},
   "outputs": [],
   "source": [
    "x = 5"
   ]
  },
  {
   "cell_type": "markdown",
   "metadata": {},
   "source": [
    "Now, we can add 10 to it and reassign it to itself with the `+=` statement. We then output its result to the screen."
   ]
  },
  {
   "cell_type": "code",
   "execution_count": null,
   "metadata": {},
   "outputs": [],
   "source": [
    "x += 10\n",
    "x"
   ]
  },
  {
   "cell_type": "markdown",
   "metadata": {},
   "source": [
    "Note, that the above is evaluated as `5 + 10` and not as `10 + 5`. This won't make a difference with addition but will do so with subtraction. Let's see an example of this."
   ]
  },
  {
   "cell_type": "code",
   "execution_count": null,
   "metadata": {},
   "outputs": [],
   "source": [
    "x = 5\n",
    "x -= 100 # this is evaluated as 5 - 100\n",
    "x"
   ]
  },
  {
   "cell_type": "markdown",
   "metadata": {},
   "source": [
    "### The augmented operation happens last\n",
    "\n",
    "The expression to the right of the augmented assignment statement always gets evaluated first. Then the operator component of the assignment statement is completed. In the cell below, the second line is evaluated as `3 * (10 - 5)` and NOT as `3 * 10 - 5` which would yield a different result."
   ]
  },
  {
   "cell_type": "code",
   "execution_count": null,
   "metadata": {},
   "outputs": [],
   "source": [
    "x = 3\n",
    "x *= 10 - 5\n",
    "x"
   ]
  },
  {
   "cell_type": "markdown",
   "metadata": {},
   "source": [
    "## Other operators\n",
    "\n",
    "There are a few other operators that were not covered in this chapter and are unnecessary to know when beginning your Python journey. These are the logical bitwise operators, `|`, `^`, `&`, the bitwise shift operators, `<<` and `>>`, and the bitwise inversion operator, `~`. \n",
    "\n",
    "The boolean operators `in` and `is`, which are essential to all Python programmers, will be covered in future chapters."
   ]
  }
 ],
 "metadata": {
  "kernelspec": {
   "display_name": "Python 3",
   "language": "python",
   "name": "python3"
  },
  "language_info": {
   "codemirror_mode": {
    "name": "ipython",
    "version": 3
   },
   "file_extension": ".py",
   "mimetype": "text/x-python",
   "name": "python",
   "nbconvert_exporter": "python",
   "pygments_lexer": "ipython3",
   "version": "3.7.3"
  }
 },
 "nbformat": 4,
 "nbformat_minor": 2
}
